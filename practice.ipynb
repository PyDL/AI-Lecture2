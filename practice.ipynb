{
 "cells": [
  {
   "cell_type": "markdown",
   "metadata": {
    "slideshow": {
     "slide_type": "slide"
    }
   },
   "source": [
    "# SWATNET School 1: Introduction to Space Weather\n",
    "# AI Lecture 2\n",
    "\n",
    "This is a jupyter notebook designed for the AI Lecture 2 of the SWATNET School 1 in Novmember 2021 (https://swatnet.eu/school-1-introduction-to-space-weather/). \n",
    "\n",
    "It will help you to get familiar with some basic coding skills to build a machine learning model to solve space weather problems using Support Vector Machines (SVM)."
   ]
  },
  {
   "cell_type": "markdown",
   "metadata": {
    "slideshow": {
     "slide_type": "subslide"
    }
   },
   "source": [
    "Any question? Contact me via j.liu@qub.ac.uk. \n",
    "\n",
    "## References:\n",
    "\n",
    "* Liu et al. ApJ, 855, 109, 2018 https://iopscience.iop.org/article/10.3847/1538-4357/aaae69\n",
    "\n",
    "* scikit-learn https://scikit-learn.org/stable/modules/classes.html?highlight=svm#module-sklearn.svm"
   ]
  },
  {
   "cell_type": "markdown",
   "metadata": {
    "slideshow": {
     "slide_type": "subslide"
    }
   },
   "source": [
    "\n",
    "## Requirements\n",
    "\n",
    "You can run this code directly via mybinder.org. If you prefer to run it on your local machine, you need to have a working Python3 environment. The easiest and most common option is to install Anaconda (https://www.anaconda.com/) to allow you to run Python in different platforms.\n",
    "\n",
    "You will also need to install some neccessary Python packages including pandas, openpyxl, numpy, matplotlib and scikit-learn. For example, if you have Anaconda installed, run the following code in your terminal to install them to your base Python environment:\n",
    "\n",
    "    $ source activate root\n",
    "\n",
    "    $ conda install pandas, numpy, scikit-learn, openpyxl, matplotlib\n",
    "\n",
    "If you don't have Anaconda and don't mind risking to mess up your operation system, you may use pip to install the above packages (**not recommended for starters**)."
   ]
  },
  {
   "cell_type": "markdown",
   "metadata": {
    "slideshow": {
     "slide_type": "subslide"
    }
   },
   "source": [
    "**More information about scikit-learn, specifically about SVM, is available at https://scikit-learn.org/stable/modules/classes.html?highlight=svm#module-sklearn.svm**"
   ]
  },
  {
   "cell_type": "markdown",
   "metadata": {
    "slideshow": {
     "slide_type": "subslide"
    }
   },
   "source": [
    "\n",
    "## Data Preparation\n",
    "\"data.xlsx\" contains the information of 182 geo-effective Coronal Mass Ejections. Please refer to the tutorial slides on how this information was obtained. \n",
    "\n",
    "Each row represents for an event (entry) and each volumn represents for a parameter (feature) of every event. The last column represents for the transit time of each event."
   ]
  },
  {
   "cell_type": "markdown",
   "metadata": {
    "slideshow": {
     "slide_type": "subslide"
    }
   },
   "source": [
    "Our target is to use the parameters of these events as the input *x*, to build a SVM model which will predict the transit time *y* (label)."
   ]
  },
  {
   "cell_type": "markdown",
   "metadata": {
    "slideshow": {
     "slide_type": "fragment"
    }
   },
   "source": [
    "First of all, we define the data file"
   ]
  },
  {
   "cell_type": "code",
   "execution_count": 1,
   "metadata": {
    "slideshow": {
     "slide_type": "fragment"
    }
   },
   "outputs": [],
   "source": [
    "datafile = './data.xlsx'"
   ]
  },
  {
   "cell_type": "markdown",
   "metadata": {
    "slideshow": {
     "slide_type": "fragment"
    }
   },
   "source": [
    "Use pandas to load the data"
   ]
  },
  {
   "cell_type": "code",
   "execution_count": 2,
   "metadata": {
    "slideshow": {
     "slide_type": "fragment"
    }
   },
   "outputs": [],
   "source": [
    "import pandas as pd"
   ]
  },
  {
   "cell_type": "code",
   "execution_count": 3,
   "metadata": {
    "slideshow": {
     "slide_type": "fragment"
    }
   },
   "outputs": [],
   "source": [
    "data = pd.read_excel(datafile, sheet_name='Data Original')"
   ]
  },
  {
   "cell_type": "markdown",
   "metadata": {
    "slideshow": {
     "slide_type": "subslide"
    }
   },
   "source": [
    "Have a look at the actual data"
   ]
  },
  {
   "cell_type": "code",
   "execution_count": 4,
   "metadata": {
    "slideshow": {
     "slide_type": "fragment"
    }
   },
   "outputs": [
    {
     "data": {
      "text/html": [
       "<div>\n",
       "<style scoped>\n",
       "    .dataframe tbody tr th:only-of-type {\n",
       "        vertical-align: middle;\n",
       "    }\n",
       "\n",
       "    .dataframe tbody tr th {\n",
       "        vertical-align: top;\n",
       "    }\n",
       "\n",
       "    .dataframe thead th {\n",
       "        text-align: right;\n",
       "    }\n",
       "</style>\n",
       "<table border=\"1\" class=\"dataframe\">\n",
       "  <thead>\n",
       "    <tr style=\"text-align: right;\">\n",
       "      <th></th>\n",
       "      <th>CME Angular Width</th>\n",
       "      <th>CME Average Speed</th>\n",
       "      <th>CME Final Speed</th>\n",
       "      <th>CME Mass</th>\n",
       "      <th>CME Position Angle</th>\n",
       "      <th>CME Source Region Latitude</th>\n",
       "      <th>CME Source Region Longitude</th>\n",
       "      <th>Solar Wind Bx</th>\n",
       "      <th>Solar Wind By</th>\n",
       "      <th>Solar Wind Bz</th>\n",
       "      <th>Solar Wind Density</th>\n",
       "      <th>Solar Wind He Proton Ratio</th>\n",
       "      <th>Solar Wind Latitude</th>\n",
       "      <th>Solar Wind Longitude</th>\n",
       "      <th>Solar Wind Plasma Beta</th>\n",
       "      <th>Solar Wind Pressure</th>\n",
       "      <th>Solar Wind Speed</th>\n",
       "      <th>Solar Wind Temperature</th>\n",
       "      <th>Transit Time</th>\n",
       "    </tr>\n",
       "  </thead>\n",
       "  <tbody>\n",
       "    <tr>\n",
       "      <th>0</th>\n",
       "      <td>360</td>\n",
       "      <td>104</td>\n",
       "      <td>119</td>\n",
       "      <td>820000000000000</td>\n",
       "      <td>269</td>\n",
       "      <td>20.6</td>\n",
       "      <td>18.7</td>\n",
       "      <td>-2.7857</td>\n",
       "      <td>1.0857</td>\n",
       "      <td>-1.3857</td>\n",
       "      <td>8.6000</td>\n",
       "      <td>0.0093</td>\n",
       "      <td>-0.4286</td>\n",
       "      <td>-0.9000</td>\n",
       "      <td>4.0300</td>\n",
       "      <td>1.8257</td>\n",
       "      <td>353.1429</td>\n",
       "      <td>24150.2857</td>\n",
       "      <td>101.936944</td>\n",
       "    </tr>\n",
       "    <tr>\n",
       "      <th>1</th>\n",
       "      <td>360</td>\n",
       "      <td>371</td>\n",
       "      <td>460</td>\n",
       "      <td>1700000000000000</td>\n",
       "      <td>67</td>\n",
       "      <td>23.4</td>\n",
       "      <td>-9.4</td>\n",
       "      <td>-3.8429</td>\n",
       "      <td>-0.2000</td>\n",
       "      <td>0.9286</td>\n",
       "      <td>6.6571</td>\n",
       "      <td>0.0420</td>\n",
       "      <td>-1.4000</td>\n",
       "      <td>2.3286</td>\n",
       "      <td>1.4114</td>\n",
       "      <td>2.3900</td>\n",
       "      <td>428.5714</td>\n",
       "      <td>80589.5714</td>\n",
       "      <td>102.490278</td>\n",
       "    </tr>\n",
       "    <tr>\n",
       "      <th>2</th>\n",
       "      <td>360</td>\n",
       "      <td>359</td>\n",
       "      <td>404</td>\n",
       "      <td>4000000000000000</td>\n",
       "      <td>87</td>\n",
       "      <td>24.2</td>\n",
       "      <td>2.0</td>\n",
       "      <td>-1.2143</td>\n",
       "      <td>2.5857</td>\n",
       "      <td>-2.4429</td>\n",
       "      <td>4.8857</td>\n",
       "      <td>0.0397</td>\n",
       "      <td>-0.4857</td>\n",
       "      <td>4.9286</td>\n",
       "      <td>2.2043</td>\n",
       "      <td>2.1600</td>\n",
       "      <td>477.8571</td>\n",
       "      <td>187698.8571</td>\n",
       "      <td>71.840833</td>\n",
       "    </tr>\n",
       "    <tr>\n",
       "      <th>3</th>\n",
       "      <td>174</td>\n",
       "      <td>293</td>\n",
       "      <td>524</td>\n",
       "      <td>2900000000000000</td>\n",
       "      <td>130</td>\n",
       "      <td>-36.4</td>\n",
       "      <td>1.2</td>\n",
       "      <td>-0.8143</td>\n",
       "      <td>-4.2143</td>\n",
       "      <td>-1.3143</td>\n",
       "      <td>11.0571</td>\n",
       "      <td>0.0180</td>\n",
       "      <td>-0.1143</td>\n",
       "      <td>-1.7714</td>\n",
       "      <td>2.3914</td>\n",
       "      <td>2.0343</td>\n",
       "      <td>319.5714</td>\n",
       "      <td>23119.5714</td>\n",
       "      <td>96.727778</td>\n",
       "    </tr>\n",
       "    <tr>\n",
       "      <th>4</th>\n",
       "      <td>360</td>\n",
       "      <td>503</td>\n",
       "      <td>573</td>\n",
       "      <td>8200000000000000</td>\n",
       "      <td>305</td>\n",
       "      <td>11.2</td>\n",
       "      <td>17.6</td>\n",
       "      <td>-0.1857</td>\n",
       "      <td>-0.5000</td>\n",
       "      <td>1.8571</td>\n",
       "      <td>24.9714</td>\n",
       "      <td>0.0177</td>\n",
       "      <td>-5.9571</td>\n",
       "      <td>-5.1429</td>\n",
       "      <td>3.8900</td>\n",
       "      <td>5.6057</td>\n",
       "      <td>355.7143</td>\n",
       "      <td>58948.7143</td>\n",
       "      <td>72.552778</td>\n",
       "    </tr>\n",
       "    <tr>\n",
       "      <th>...</th>\n",
       "      <td>...</td>\n",
       "      <td>...</td>\n",
       "      <td>...</td>\n",
       "      <td>...</td>\n",
       "      <td>...</td>\n",
       "      <td>...</td>\n",
       "      <td>...</td>\n",
       "      <td>...</td>\n",
       "      <td>...</td>\n",
       "      <td>...</td>\n",
       "      <td>...</td>\n",
       "      <td>...</td>\n",
       "      <td>...</td>\n",
       "      <td>...</td>\n",
       "      <td>...</td>\n",
       "      <td>...</td>\n",
       "      <td>...</td>\n",
       "      <td>...</td>\n",
       "      <td>...</td>\n",
       "    </tr>\n",
       "    <tr>\n",
       "      <th>177</th>\n",
       "      <td>194</td>\n",
       "      <td>782</td>\n",
       "      <td>752</td>\n",
       "      <td>9000000000000000</td>\n",
       "      <td>241</td>\n",
       "      <td>-29.5</td>\n",
       "      <td>71.7</td>\n",
       "      <td>-2.2429</td>\n",
       "      <td>1.6429</td>\n",
       "      <td>-0.0857</td>\n",
       "      <td>6.6000</td>\n",
       "      <td>0.0116</td>\n",
       "      <td>-1.6714</td>\n",
       "      <td>-3.0286</td>\n",
       "      <td>4.3557</td>\n",
       "      <td>1.0614</td>\n",
       "      <td>303.4286</td>\n",
       "      <td>19396.4286</td>\n",
       "      <td>77.698889</td>\n",
       "    </tr>\n",
       "    <tr>\n",
       "      <th>178</th>\n",
       "      <td>204</td>\n",
       "      <td>647</td>\n",
       "      <td>698</td>\n",
       "      <td>7700000000000000</td>\n",
       "      <td>234</td>\n",
       "      <td>-29.7</td>\n",
       "      <td>29.9</td>\n",
       "      <td>-2.6000</td>\n",
       "      <td>5.6857</td>\n",
       "      <td>-1.0143</td>\n",
       "      <td>4.9429</td>\n",
       "      <td>0.0244</td>\n",
       "      <td>0.2571</td>\n",
       "      <td>-2.4000</td>\n",
       "      <td>0.6714</td>\n",
       "      <td>1.4714</td>\n",
       "      <td>402.5714</td>\n",
       "      <td>43830.7143</td>\n",
       "      <td>64.915278</td>\n",
       "    </tr>\n",
       "    <tr>\n",
       "      <th>179</th>\n",
       "      <td>131</td>\n",
       "      <td>823</td>\n",
       "      <td>1196</td>\n",
       "      <td>7800000000000000</td>\n",
       "      <td>188</td>\n",
       "      <td>3.5</td>\n",
       "      <td>-17.7</td>\n",
       "      <td>-1.3000</td>\n",
       "      <td>4.1429</td>\n",
       "      <td>-1.4143</td>\n",
       "      <td>8.2571</td>\n",
       "      <td>0.0283</td>\n",
       "      <td>-1.1571</td>\n",
       "      <td>-4.3286</td>\n",
       "      <td>1.7429</td>\n",
       "      <td>2.5243</td>\n",
       "      <td>404.1429</td>\n",
       "      <td>50583.7143</td>\n",
       "      <td>48.448333</td>\n",
       "    </tr>\n",
       "    <tr>\n",
       "      <th>180</th>\n",
       "      <td>360</td>\n",
       "      <td>817</td>\n",
       "      <td>873</td>\n",
       "      <td>12000000000000000</td>\n",
       "      <td>206</td>\n",
       "      <td>-11.0</td>\n",
       "      <td>27.0</td>\n",
       "      <td>2.9000</td>\n",
       "      <td>-1.6857</td>\n",
       "      <td>0.2714</td>\n",
       "      <td>5.9286</td>\n",
       "      <td>0.0150</td>\n",
       "      <td>0.6714</td>\n",
       "      <td>-1.2714</td>\n",
       "      <td>2.2329</td>\n",
       "      <td>2.0629</td>\n",
       "      <td>417.7143</td>\n",
       "      <td>64258.4286</td>\n",
       "      <td>63.231389</td>\n",
       "    </tr>\n",
       "    <tr>\n",
       "      <th>181</th>\n",
       "      <td>360</td>\n",
       "      <td>579</td>\n",
       "      <td>359</td>\n",
       "      <td>1200000000000000</td>\n",
       "      <td>334</td>\n",
       "      <td>-13.0</td>\n",
       "      <td>4.0</td>\n",
       "      <td>3.5143</td>\n",
       "      <td>-2.5429</td>\n",
       "      <td>1.3143</td>\n",
       "      <td>1.3429</td>\n",
       "      <td>0.0300</td>\n",
       "      <td>-0.9000</td>\n",
       "      <td>1.7000</td>\n",
       "      <td>0.9429</td>\n",
       "      <td>0.7357</td>\n",
       "      <td>523.2857</td>\n",
       "      <td>215895.4286</td>\n",
       "      <td>77.848889</td>\n",
       "    </tr>\n",
       "  </tbody>\n",
       "</table>\n",
       "<p>182 rows × 19 columns</p>\n",
       "</div>"
      ],
      "text/plain": [
       "     CME Angular Width  CME Average Speed  CME Final Speed           CME Mass  \\\n",
       "0                  360                104              119    820000000000000   \n",
       "1                  360                371              460   1700000000000000   \n",
       "2                  360                359              404   4000000000000000   \n",
       "3                  174                293              524   2900000000000000   \n",
       "4                  360                503              573   8200000000000000   \n",
       "..                 ...                ...              ...                ...   \n",
       "177                194                782              752   9000000000000000   \n",
       "178                204                647              698   7700000000000000   \n",
       "179                131                823             1196   7800000000000000   \n",
       "180                360                817              873  12000000000000000   \n",
       "181                360                579              359   1200000000000000   \n",
       "\n",
       "     CME Position Angle  CME Source Region Latitude  \\\n",
       "0                   269                        20.6   \n",
       "1                    67                        23.4   \n",
       "2                    87                        24.2   \n",
       "3                   130                       -36.4   \n",
       "4                   305                        11.2   \n",
       "..                  ...                         ...   \n",
       "177                 241                       -29.5   \n",
       "178                 234                       -29.7   \n",
       "179                 188                         3.5   \n",
       "180                 206                       -11.0   \n",
       "181                 334                       -13.0   \n",
       "\n",
       "     CME Source Region Longitude  Solar Wind Bx  Solar Wind By  Solar Wind Bz  \\\n",
       "0                           18.7        -2.7857         1.0857        -1.3857   \n",
       "1                           -9.4        -3.8429        -0.2000         0.9286   \n",
       "2                            2.0        -1.2143         2.5857        -2.4429   \n",
       "3                            1.2        -0.8143        -4.2143        -1.3143   \n",
       "4                           17.6        -0.1857        -0.5000         1.8571   \n",
       "..                           ...            ...            ...            ...   \n",
       "177                         71.7        -2.2429         1.6429        -0.0857   \n",
       "178                         29.9        -2.6000         5.6857        -1.0143   \n",
       "179                        -17.7        -1.3000         4.1429        -1.4143   \n",
       "180                         27.0         2.9000        -1.6857         0.2714   \n",
       "181                          4.0         3.5143        -2.5429         1.3143   \n",
       "\n",
       "     Solar Wind Density  Solar Wind He Proton Ratio  Solar Wind Latitude  \\\n",
       "0                8.6000                      0.0093              -0.4286   \n",
       "1                6.6571                      0.0420              -1.4000   \n",
       "2                4.8857                      0.0397              -0.4857   \n",
       "3               11.0571                      0.0180              -0.1143   \n",
       "4               24.9714                      0.0177              -5.9571   \n",
       "..                  ...                         ...                  ...   \n",
       "177              6.6000                      0.0116              -1.6714   \n",
       "178              4.9429                      0.0244               0.2571   \n",
       "179              8.2571                      0.0283              -1.1571   \n",
       "180              5.9286                      0.0150               0.6714   \n",
       "181              1.3429                      0.0300              -0.9000   \n",
       "\n",
       "     Solar Wind Longitude  Solar Wind Plasma Beta  Solar Wind Pressure  \\\n",
       "0                 -0.9000                  4.0300               1.8257   \n",
       "1                  2.3286                  1.4114               2.3900   \n",
       "2                  4.9286                  2.2043               2.1600   \n",
       "3                 -1.7714                  2.3914               2.0343   \n",
       "4                 -5.1429                  3.8900               5.6057   \n",
       "..                    ...                     ...                  ...   \n",
       "177               -3.0286                  4.3557               1.0614   \n",
       "178               -2.4000                  0.6714               1.4714   \n",
       "179               -4.3286                  1.7429               2.5243   \n",
       "180               -1.2714                  2.2329               2.0629   \n",
       "181                1.7000                  0.9429               0.7357   \n",
       "\n",
       "     Solar Wind Speed  Solar Wind Temperature  Transit Time  \n",
       "0            353.1429              24150.2857    101.936944  \n",
       "1            428.5714              80589.5714    102.490278  \n",
       "2            477.8571             187698.8571     71.840833  \n",
       "3            319.5714              23119.5714     96.727778  \n",
       "4            355.7143              58948.7143     72.552778  \n",
       "..                ...                     ...           ...  \n",
       "177          303.4286              19396.4286     77.698889  \n",
       "178          402.5714              43830.7143     64.915278  \n",
       "179          404.1429              50583.7143     48.448333  \n",
       "180          417.7143              64258.4286     63.231389  \n",
       "181          523.2857             215895.4286     77.848889  \n",
       "\n",
       "[182 rows x 19 columns]"
      ]
     },
     "execution_count": 4,
     "metadata": {},
     "output_type": "execute_result"
    }
   ],
   "source": [
    "data"
   ]
  },
  {
   "cell_type": "markdown",
   "metadata": {
    "slideshow": {
     "slide_type": "subslide"
    }
   },
   "source": [
    "Before building the SVM model, it is a good idea to do feature selection, i.e., to omit \"irrelevant\" features in the input space. Please see Section 3.2 in Liu et al. ApJ, 855, 109, 2018 for more details.\n",
    "\n",
    "We have found out that the most relevant features are:"
   ]
  },
  {
   "cell_type": "code",
   "execution_count": 5,
   "metadata": {
    "slideshow": {
     "slide_type": "fragment"
    }
   },
   "outputs": [],
   "source": [
    "features = ['CME Average Speed',\n",
    "            'CME Final Speed',\n",
    "            'CME Angular Width',\n",
    "            'CME Mass',\n",
    "            'Solar Wind Bz',\n",
    "            'Solar Wind Speed',\n",
    "            'Solar Wind Temperature',\n",
    "            'Solar Wind Pressure',\n",
    "            'Solar Wind Longitude',\n",
    "            'Solar Wind He Proton Ratio',\n",
    "            'Solar Wind Bx',\n",
    "            'CME Position Angle'\n",
    "            ]\n"
   ]
  },
  {
   "cell_type": "markdown",
   "metadata": {
    "slideshow": {
     "slide_type": "subslide"
    }
   },
   "source": [
    "Construct input x and label y"
   ]
  },
  {
   "cell_type": "code",
   "execution_count": 6,
   "metadata": {
    "slideshow": {
     "slide_type": "fragment"
    }
   },
   "outputs": [],
   "source": [
    "x = data[features]\n",
    "y = data['Transit Time']"
   ]
  },
  {
   "cell_type": "markdown",
   "metadata": {
    "slideshow": {
     "slide_type": "subslide"
    }
   },
   "source": [
    "x, and y"
   ]
  },
  {
   "cell_type": "code",
   "execution_count": 7,
   "metadata": {
    "slideshow": {
     "slide_type": "fragment"
    }
   },
   "outputs": [
    {
     "data": {
      "text/html": [
       "<div>\n",
       "<style scoped>\n",
       "    .dataframe tbody tr th:only-of-type {\n",
       "        vertical-align: middle;\n",
       "    }\n",
       "\n",
       "    .dataframe tbody tr th {\n",
       "        vertical-align: top;\n",
       "    }\n",
       "\n",
       "    .dataframe thead th {\n",
       "        text-align: right;\n",
       "    }\n",
       "</style>\n",
       "<table border=\"1\" class=\"dataframe\">\n",
       "  <thead>\n",
       "    <tr style=\"text-align: right;\">\n",
       "      <th></th>\n",
       "      <th>CME Average Speed</th>\n",
       "      <th>CME Final Speed</th>\n",
       "      <th>CME Angular Width</th>\n",
       "      <th>CME Mass</th>\n",
       "      <th>Solar Wind Bz</th>\n",
       "      <th>Solar Wind Speed</th>\n",
       "      <th>Solar Wind Temperature</th>\n",
       "      <th>Solar Wind Pressure</th>\n",
       "      <th>Solar Wind Longitude</th>\n",
       "      <th>Solar Wind He Proton Ratio</th>\n",
       "      <th>Solar Wind Bx</th>\n",
       "      <th>CME Position Angle</th>\n",
       "    </tr>\n",
       "  </thead>\n",
       "  <tbody>\n",
       "    <tr>\n",
       "      <th>0</th>\n",
       "      <td>104</td>\n",
       "      <td>119</td>\n",
       "      <td>360</td>\n",
       "      <td>820000000000000</td>\n",
       "      <td>-1.3857</td>\n",
       "      <td>353.1429</td>\n",
       "      <td>24150.2857</td>\n",
       "      <td>1.8257</td>\n",
       "      <td>-0.9000</td>\n",
       "      <td>0.0093</td>\n",
       "      <td>-2.7857</td>\n",
       "      <td>269</td>\n",
       "    </tr>\n",
       "    <tr>\n",
       "      <th>1</th>\n",
       "      <td>371</td>\n",
       "      <td>460</td>\n",
       "      <td>360</td>\n",
       "      <td>1700000000000000</td>\n",
       "      <td>0.9286</td>\n",
       "      <td>428.5714</td>\n",
       "      <td>80589.5714</td>\n",
       "      <td>2.3900</td>\n",
       "      <td>2.3286</td>\n",
       "      <td>0.0420</td>\n",
       "      <td>-3.8429</td>\n",
       "      <td>67</td>\n",
       "    </tr>\n",
       "    <tr>\n",
       "      <th>2</th>\n",
       "      <td>359</td>\n",
       "      <td>404</td>\n",
       "      <td>360</td>\n",
       "      <td>4000000000000000</td>\n",
       "      <td>-2.4429</td>\n",
       "      <td>477.8571</td>\n",
       "      <td>187698.8571</td>\n",
       "      <td>2.1600</td>\n",
       "      <td>4.9286</td>\n",
       "      <td>0.0397</td>\n",
       "      <td>-1.2143</td>\n",
       "      <td>87</td>\n",
       "    </tr>\n",
       "    <tr>\n",
       "      <th>3</th>\n",
       "      <td>293</td>\n",
       "      <td>524</td>\n",
       "      <td>174</td>\n",
       "      <td>2900000000000000</td>\n",
       "      <td>-1.3143</td>\n",
       "      <td>319.5714</td>\n",
       "      <td>23119.5714</td>\n",
       "      <td>2.0343</td>\n",
       "      <td>-1.7714</td>\n",
       "      <td>0.0180</td>\n",
       "      <td>-0.8143</td>\n",
       "      <td>130</td>\n",
       "    </tr>\n",
       "    <tr>\n",
       "      <th>4</th>\n",
       "      <td>503</td>\n",
       "      <td>573</td>\n",
       "      <td>360</td>\n",
       "      <td>8200000000000000</td>\n",
       "      <td>1.8571</td>\n",
       "      <td>355.7143</td>\n",
       "      <td>58948.7143</td>\n",
       "      <td>5.6057</td>\n",
       "      <td>-5.1429</td>\n",
       "      <td>0.0177</td>\n",
       "      <td>-0.1857</td>\n",
       "      <td>305</td>\n",
       "    </tr>\n",
       "    <tr>\n",
       "      <th>...</th>\n",
       "      <td>...</td>\n",
       "      <td>...</td>\n",
       "      <td>...</td>\n",
       "      <td>...</td>\n",
       "      <td>...</td>\n",
       "      <td>...</td>\n",
       "      <td>...</td>\n",
       "      <td>...</td>\n",
       "      <td>...</td>\n",
       "      <td>...</td>\n",
       "      <td>...</td>\n",
       "      <td>...</td>\n",
       "    </tr>\n",
       "    <tr>\n",
       "      <th>177</th>\n",
       "      <td>782</td>\n",
       "      <td>752</td>\n",
       "      <td>194</td>\n",
       "      <td>9000000000000000</td>\n",
       "      <td>-0.0857</td>\n",
       "      <td>303.4286</td>\n",
       "      <td>19396.4286</td>\n",
       "      <td>1.0614</td>\n",
       "      <td>-3.0286</td>\n",
       "      <td>0.0116</td>\n",
       "      <td>-2.2429</td>\n",
       "      <td>241</td>\n",
       "    </tr>\n",
       "    <tr>\n",
       "      <th>178</th>\n",
       "      <td>647</td>\n",
       "      <td>698</td>\n",
       "      <td>204</td>\n",
       "      <td>7700000000000000</td>\n",
       "      <td>-1.0143</td>\n",
       "      <td>402.5714</td>\n",
       "      <td>43830.7143</td>\n",
       "      <td>1.4714</td>\n",
       "      <td>-2.4000</td>\n",
       "      <td>0.0244</td>\n",
       "      <td>-2.6000</td>\n",
       "      <td>234</td>\n",
       "    </tr>\n",
       "    <tr>\n",
       "      <th>179</th>\n",
       "      <td>823</td>\n",
       "      <td>1196</td>\n",
       "      <td>131</td>\n",
       "      <td>7800000000000000</td>\n",
       "      <td>-1.4143</td>\n",
       "      <td>404.1429</td>\n",
       "      <td>50583.7143</td>\n",
       "      <td>2.5243</td>\n",
       "      <td>-4.3286</td>\n",
       "      <td>0.0283</td>\n",
       "      <td>-1.3000</td>\n",
       "      <td>188</td>\n",
       "    </tr>\n",
       "    <tr>\n",
       "      <th>180</th>\n",
       "      <td>817</td>\n",
       "      <td>873</td>\n",
       "      <td>360</td>\n",
       "      <td>12000000000000000</td>\n",
       "      <td>0.2714</td>\n",
       "      <td>417.7143</td>\n",
       "      <td>64258.4286</td>\n",
       "      <td>2.0629</td>\n",
       "      <td>-1.2714</td>\n",
       "      <td>0.0150</td>\n",
       "      <td>2.9000</td>\n",
       "      <td>206</td>\n",
       "    </tr>\n",
       "    <tr>\n",
       "      <th>181</th>\n",
       "      <td>579</td>\n",
       "      <td>359</td>\n",
       "      <td>360</td>\n",
       "      <td>1200000000000000</td>\n",
       "      <td>1.3143</td>\n",
       "      <td>523.2857</td>\n",
       "      <td>215895.4286</td>\n",
       "      <td>0.7357</td>\n",
       "      <td>1.7000</td>\n",
       "      <td>0.0300</td>\n",
       "      <td>3.5143</td>\n",
       "      <td>334</td>\n",
       "    </tr>\n",
       "  </tbody>\n",
       "</table>\n",
       "<p>182 rows × 12 columns</p>\n",
       "</div>"
      ],
      "text/plain": [
       "     CME Average Speed  CME Final Speed  CME Angular Width           CME Mass  \\\n",
       "0                  104              119                360    820000000000000   \n",
       "1                  371              460                360   1700000000000000   \n",
       "2                  359              404                360   4000000000000000   \n",
       "3                  293              524                174   2900000000000000   \n",
       "4                  503              573                360   8200000000000000   \n",
       "..                 ...              ...                ...                ...   \n",
       "177                782              752                194   9000000000000000   \n",
       "178                647              698                204   7700000000000000   \n",
       "179                823             1196                131   7800000000000000   \n",
       "180                817              873                360  12000000000000000   \n",
       "181                579              359                360   1200000000000000   \n",
       "\n",
       "     Solar Wind Bz  Solar Wind Speed  Solar Wind Temperature  \\\n",
       "0          -1.3857          353.1429              24150.2857   \n",
       "1           0.9286          428.5714              80589.5714   \n",
       "2          -2.4429          477.8571             187698.8571   \n",
       "3          -1.3143          319.5714              23119.5714   \n",
       "4           1.8571          355.7143              58948.7143   \n",
       "..             ...               ...                     ...   \n",
       "177        -0.0857          303.4286              19396.4286   \n",
       "178        -1.0143          402.5714              43830.7143   \n",
       "179        -1.4143          404.1429              50583.7143   \n",
       "180         0.2714          417.7143              64258.4286   \n",
       "181         1.3143          523.2857             215895.4286   \n",
       "\n",
       "     Solar Wind Pressure  Solar Wind Longitude  Solar Wind He Proton Ratio  \\\n",
       "0                 1.8257               -0.9000                      0.0093   \n",
       "1                 2.3900                2.3286                      0.0420   \n",
       "2                 2.1600                4.9286                      0.0397   \n",
       "3                 2.0343               -1.7714                      0.0180   \n",
       "4                 5.6057               -5.1429                      0.0177   \n",
       "..                   ...                   ...                         ...   \n",
       "177               1.0614               -3.0286                      0.0116   \n",
       "178               1.4714               -2.4000                      0.0244   \n",
       "179               2.5243               -4.3286                      0.0283   \n",
       "180               2.0629               -1.2714                      0.0150   \n",
       "181               0.7357                1.7000                      0.0300   \n",
       "\n",
       "     Solar Wind Bx  CME Position Angle  \n",
       "0          -2.7857                 269  \n",
       "1          -3.8429                  67  \n",
       "2          -1.2143                  87  \n",
       "3          -0.8143                 130  \n",
       "4          -0.1857                 305  \n",
       "..             ...                 ...  \n",
       "177        -2.2429                 241  \n",
       "178        -2.6000                 234  \n",
       "179        -1.3000                 188  \n",
       "180         2.9000                 206  \n",
       "181         3.5143                 334  \n",
       "\n",
       "[182 rows x 12 columns]"
      ]
     },
     "execution_count": 7,
     "metadata": {},
     "output_type": "execute_result"
    }
   ],
   "source": [
    "x"
   ]
  },
  {
   "cell_type": "code",
   "execution_count": 8,
   "metadata": {
    "slideshow": {
     "slide_type": "subslide"
    }
   },
   "outputs": [
    {
     "data": {
      "text/plain": [
       "0      101.936944\n",
       "1      102.490278\n",
       "2       71.840833\n",
       "3       96.727778\n",
       "4       72.552778\n",
       "          ...    \n",
       "177     77.698889\n",
       "178     64.915278\n",
       "179     48.448333\n",
       "180     63.231389\n",
       "181     77.848889\n",
       "Name: Transit Time, Length: 182, dtype: float64"
      ]
     },
     "execution_count": 8,
     "metadata": {},
     "output_type": "execute_result"
    }
   ],
   "source": [
    "y"
   ]
  },
  {
   "cell_type": "markdown",
   "metadata": {
    "slideshow": {
     "slide_type": "subslide"
    }
   },
   "source": [
    "## Normalisation\n",
    "\n",
    "If you take a look at the data in the input *x*, you'll find that it contains positive and negative values which covers a huge range of orders of magnitude, from $10^{-3}$ in 'Solar Wind He Proton Ratio' to $10^{15}$ in 'CME Mass'."
   ]
  },
  {
   "cell_type": "markdown",
   "metadata": {
    "slideshow": {
     "slide_type": "fragment"
    }
   },
   "source": [
    "It is usually a good and **neccessary** step to normalise your input data"
   ]
  },
  {
   "cell_type": "code",
   "execution_count": 9,
   "metadata": {
    "slideshow": {
     "slide_type": "fragment"
    }
   },
   "outputs": [],
   "source": [
    "y_in = y # there is no need to normalise the label in this case"
   ]
  },
  {
   "cell_type": "code",
   "execution_count": 10,
   "metadata": {
    "slideshow": {
     "slide_type": "fragment"
    }
   },
   "outputs": [],
   "source": [
    "from sklearn.preprocessing import StandardScaler"
   ]
  },
  {
   "cell_type": "code",
   "execution_count": 11,
   "metadata": {
    "slideshow": {
     "slide_type": "fragment"
    }
   },
   "outputs": [],
   "source": [
    "scaler = StandardScaler() # standard scaler module in scikit-learn"
   ]
  },
  {
   "cell_type": "code",
   "execution_count": 12,
   "metadata": {
    "slideshow": {
     "slide_type": "fragment"
    }
   },
   "outputs": [],
   "source": [
    "x_in = scaler.fit_transform(x)"
   ]
  },
  {
   "cell_type": "code",
   "execution_count": 13,
   "metadata": {
    "slideshow": {
     "slide_type": "fragment"
    }
   },
   "outputs": [],
   "source": [
    "import numpy as np"
   ]
  },
  {
   "cell_type": "code",
   "execution_count": 14,
   "metadata": {
    "slideshow": {
     "slide_type": "fragment"
    }
   },
   "outputs": [
    {
     "data": {
      "text/plain": [
       "((182, 12), (182,))"
      ]
     },
     "execution_count": 14,
     "metadata": {},
     "output_type": "execute_result"
    }
   ],
   "source": [
    "np.shape(x_in), np.shape(y_in)"
   ]
  },
  {
   "cell_type": "code",
   "execution_count": 15,
   "metadata": {
    "slideshow": {
     "slide_type": "subslide"
    }
   },
   "outputs": [
    {
     "data": {
      "text/plain": [
       "array([[-1.45219016, -1.46079778,  0.62703543, ..., -1.37438361,\n",
       "        -0.83526287,  0.80168636],\n",
       "       [-0.96285351, -0.75497013,  0.62703543, ...,  0.03936176,\n",
       "        -1.15865894, -1.13415583],\n",
       "       [-0.98484616, -0.87088318,  0.62703543, ..., -0.06007598,\n",
       "        -0.3545737 , -0.94248829],\n",
       "       ...,\n",
       "       [-0.13446336,  0.76845845, -2.15076884, ..., -0.55294134,\n",
       "        -0.38078922,  0.02543281],\n",
       "       [-0.14545969,  0.09988857,  0.62703543, ..., -1.12795093,\n",
       "         0.90398519,  0.1979336 ],\n",
       "       [-0.58164742, -0.96402759,  0.62703543, ..., -0.47944388,\n",
       "         1.09189874,  1.42460588]])"
      ]
     },
     "execution_count": 15,
     "metadata": {},
     "output_type": "execute_result"
    }
   ],
   "source": [
    "x_in # have a look at the normalised input"
   ]
  },
  {
   "cell_type": "markdown",
   "metadata": {
    "slideshow": {
     "slide_type": "fragment"
    }
   },
   "source": [
    "We are now ready with the input and label."
   ]
  },
  {
   "cell_type": "markdown",
   "metadata": {
    "slideshow": {
     "slide_type": "subslide"
    }
   },
   "source": [
    "## Kernal Selection"
   ]
  },
  {
   "cell_type": "markdown",
   "metadata": {
    "slideshow": {
     "slide_type": "fragment"
    }
   },
   "source": [
    "To build the SVM, we first identify that this is a regression problem, instead of a classification problem.\n",
    "\n",
    "In this case, we need to use svm.SVR (https://scikit-learn.org/stable/modules/svm.html#svm-regression).\n",
    "\n",
    "There are several different functions to map a linear SVR to a non-linear space to solve non-linear problems. We expect our problem to be non-linear, so need to select a function (called kernal). The mostly commonly used kernal function is the RBF (Radial Basis Function kernel):\n",
    "\n",
    "$K(x_i, x_j) = \\exp{(-\\gamma ||x_i - x_j||^2)}$"
   ]
  },
  {
   "cell_type": "markdown",
   "metadata": {
    "slideshow": {
     "slide_type": "fragment"
    }
   },
   "source": [
    "where, $||x_i - x_j||^2$ is the squared Euclidean distance between two data points $x_i$ and $x_j$"
   ]
  },
  {
   "cell_type": "markdown",
   "metadata": {
    "slideshow": {
     "slide_type": "subslide"
    }
   },
   "source": [
    "\"When training an SVM with the Radial Basis Function (RBF) kernel, two parameters must be considered: C and gamma. The parameter C, common to all SVM kernels, trades off misclassification of training examples against simplicity of the decision surface. A low C makes the decision surface smooth, while a high C aims at classifying all training examples correctly. gamma defines how much influence a single training example has. The larger gamma is, the closer other examples must be to be affected.\" (https://scikit-learn.org/stable/modules/svm.html#svm-regression)"
   ]
  },
  {
   "cell_type": "markdown",
   "metadata": {
    "slideshow": {
     "slide_type": "fragment"
    }
   },
   "source": [
    "It is very important to choose proper values for C and $\\gamma$. You can use the GridSearchCV() function in scikit-learn to find the proper values. "
   ]
  },
  {
   "cell_type": "markdown",
   "metadata": {
    "slideshow": {
     "slide_type": "subslide"
    }
   },
   "source": [
    "For this particular problem, we have found a proper pair of C and $\\gamma$ as C=32 and $\\gamma$=0.012. See Section 3.4 and Figure 4 in Liu et al. ApJ, 855, 109, 2018 for more details."
   ]
  },
  {
   "cell_type": "code",
   "execution_count": 16,
   "metadata": {
    "slideshow": {
     "slide_type": "fragment"
    }
   },
   "outputs": [],
   "source": [
    "C = 32\n",
    "gamma = 0.012"
   ]
  },
  {
   "cell_type": "markdown",
   "metadata": {
    "slideshow": {
     "slide_type": "subslide"
    }
   },
   "source": [
    "## Trainning"
   ]
  },
  {
   "cell_type": "markdown",
   "metadata": {
    "slideshow": {
     "slide_type": "fragment"
    }
   },
   "source": [
    "Now, we randomly split the input data into two sets: the training set and the test set"
   ]
  },
  {
   "cell_type": "code",
   "execution_count": 17,
   "metadata": {
    "slideshow": {
     "slide_type": "fragment"
    }
   },
   "outputs": [],
   "source": [
    "from sklearn.model_selection import train_test_split"
   ]
  },
  {
   "cell_type": "code",
   "execution_count": 18,
   "metadata": {
    "slideshow": {
     "slide_type": "fragment"
    }
   },
   "outputs": [],
   "source": [
    "x_train, x_test, y_train, y_test = train_test_split(x_in, y_in, random_state=2)"
   ]
  },
  {
   "cell_type": "code",
   "execution_count": 19,
   "metadata": {
    "slideshow": {
     "slide_type": "fragment"
    }
   },
   "outputs": [
    {
     "data": {
      "text/plain": [
       "((136, 12), (46, 12))"
      ]
     },
     "execution_count": 19,
     "metadata": {},
     "output_type": "execute_result"
    }
   ],
   "source": [
    "np.shape(x_train), np.shape(x_test)"
   ]
  },
  {
   "cell_type": "code",
   "execution_count": 20,
   "metadata": {
    "slideshow": {
     "slide_type": "fragment"
    }
   },
   "outputs": [
    {
     "data": {
      "text/plain": [
       "((136,), (46,))"
      ]
     },
     "execution_count": 20,
     "metadata": {},
     "output_type": "execute_result"
    }
   ],
   "source": [
    "np.shape(y_train), np.shape(y_test)"
   ]
  },
  {
   "cell_type": "markdown",
   "metadata": {
    "slideshow": {
     "slide_type": "subslide"
    }
   },
   "source": [
    "Build the model"
   ]
  },
  {
   "cell_type": "code",
   "execution_count": 21,
   "metadata": {
    "slideshow": {
     "slide_type": "fragment"
    }
   },
   "outputs": [],
   "source": [
    "from sklearn import svm"
   ]
  },
  {
   "cell_type": "code",
   "execution_count": 22,
   "metadata": {
    "slideshow": {
     "slide_type": "fragment"
    }
   },
   "outputs": [],
   "source": [
    "clf = svm.SVR(C=C, gamma=gamma) # SVR model"
   ]
  },
  {
   "cell_type": "code",
   "execution_count": 23,
   "metadata": {
    "slideshow": {
     "slide_type": "fragment"
    }
   },
   "outputs": [
    {
     "data": {
      "text/plain": [
       "SVR(C=32, gamma=0.012)"
      ]
     },
     "execution_count": 23,
     "metadata": {},
     "output_type": "execute_result"
    }
   ],
   "source": [
    "clf.fit(x_train, y_train) # Build the model using the training data"
   ]
  },
  {
   "cell_type": "markdown",
   "metadata": {
    "slideshow": {
     "slide_type": "fragment"
    }
   },
   "source": [
    "Use the model to predict the test set"
   ]
  },
  {
   "cell_type": "code",
   "execution_count": 24,
   "metadata": {
    "slideshow": {
     "slide_type": "fragment"
    }
   },
   "outputs": [],
   "source": [
    "yfit = clf.predict(x_test)"
   ]
  },
  {
   "cell_type": "markdown",
   "metadata": {
    "slideshow": {
     "slide_type": "subslide"
    }
   },
   "source": [
    "# Visualise the result\n",
    "\n",
    "Check the R$^2$ score"
   ]
  },
  {
   "cell_type": "code",
   "execution_count": 25,
   "metadata": {
    "slideshow": {
     "slide_type": "fragment"
    }
   },
   "outputs": [
    {
     "data": {
      "text/plain": [
       "0.6328584379353159"
      ]
     },
     "execution_count": 25,
     "metadata": {},
     "output_type": "execute_result"
    }
   ],
   "source": [
    "R2 = clf.score(x_test, y_test)\n",
    "R2"
   ]
  },
  {
   "cell_type": "markdown",
   "metadata": {
    "slideshow": {
     "slide_type": "fragment"
    }
   },
   "source": [
    "Check the Mean Absolute Error (MAE)"
   ]
  },
  {
   "cell_type": "code",
   "execution_count": 26,
   "metadata": {
    "slideshow": {
     "slide_type": "fragment"
    }
   },
   "outputs": [
    {
     "data": {
      "text/plain": [
       "8.874299101712575"
      ]
     },
     "execution_count": 26,
     "metadata": {},
     "output_type": "execute_result"
    }
   ],
   "source": [
    "MAE = np.mean(np.abs(yfit - y_test))\n",
    "MAE"
   ]
  },
  {
   "cell_type": "code",
   "execution_count": 27,
   "metadata": {
    "slideshow": {
     "slide_type": "subslide"
    }
   },
   "outputs": [],
   "source": [
    "from matplotlib import pyplot as plt"
   ]
  },
  {
   "cell_type": "code",
   "execution_count": 28,
   "metadata": {
    "slideshow": {
     "slide_type": "fragment"
    }
   },
   "outputs": [
    {
     "data": {
      "text/plain": [
       "Text(0, 0.5, 'Predicted Transit Time (hours)')"
      ]
     },
     "execution_count": 28,
     "metadata": {},
     "output_type": "execute_result"
    },
    {
     "data": {
      "image/png": "[encoded data removed]",
      "text/plain": [
       "<Figure size 648x648 with 1 Axes>"
      ]
     },
     "metadata": {
      "needs_background": "light"
     },
     "output_type": "display_data"
    }
   ],
   "source": [
    "plt.figure(figsize=(9, 9))\n",
    "plt.scatter(y_test, yfit)\n",
    "plt.plot([30, 110], [30, 110], linestyle='--', color='black')\n",
    "\n",
    "plt.xlim([30, 110])\n",
    "plt.ylim([30, 110])\n",
    "\n",
    "plt.xlabel('Actual Transit Time (hours)')\n",
    "plt.ylabel('Predicted Transit Time (hours)')"
   ]
  }
 ],
 "metadata": {
  "celltoolbar": "幻灯片",
  "kernelspec": {
   "display_name": "Python 3 (ipykernel)",
   "language": "python",
   "name": "python3"
  },
  "language_info": {
   "codemirror_mode": {
    "name": "ipython",
    "version": 3
   },
   "file_extension": ".py",
   "mimetype": "text/x-python",
   "name": "python",
   "nbconvert_exporter": "python",
   "pygments_lexer": "ipython3",
   "version": "3.8.10"
  }
 },
 "nbformat": 4,
 "nbformat_minor": 4
}
